{
 "cells": [
  {
   "attachments": {},
   "cell_type": "markdown",
   "metadata": {},
   "source": [
    "## Pregunta 1"
   ]
  },
  {
   "cell_type": "code",
   "execution_count": 5,
   "metadata": {},
   "outputs": [],
   "source": [
    "def DividirDosNumeros(dividendo, divisor):\n",
    "    '''\n",
    "    Esta función devuelve dos valores, la parte entera de la división y su resto\n",
    "    Recibe dos argumentos:\n",
    "        dividendo: El número que va a ser dividido\n",
    "        divisor: El número que va a dividir\n",
    "    Ej:\n",
    "        DividirDosNumeros(10,3) debe retornar 3, 1\n",
    "    '''\n",
    "    parte_entera = None\n",
    "    resto = None\n",
    "    #Tu código aca:\n",
    "    resto = dividendo % divisor\n",
    "    parte_entera = dividendo // divisor\n",
    "    return parte_entera, resto"
   ]
  },
  {
   "cell_type": "code",
   "execution_count": 4,
   "metadata": {},
   "outputs": [
    {
     "data": {
      "text/plain": [
       "(2, 0)"
      ]
     },
     "execution_count": 4,
     "metadata": {},
     "output_type": "execute_result"
    }
   ],
   "source": [
    "DividirDosNumeros(10, 5)"
   ]
  },
  {
   "attachments": {},
   "cell_type": "markdown",
   "metadata": {},
   "source": [
    "## Pregunta 2"
   ]
  },
  {
   "cell_type": "code",
   "execution_count": 19,
   "metadata": {},
   "outputs": [],
   "source": [
    "def ProximoPrimo(actual_primo):\n",
    "    '''\n",
    "    Esta función devuelve el número primo siguiente al enviado como parámetro.\n",
    "    En caso de que el parámetro no sea de tipo entero y/o no sea un número primo, debe retornar nulo.\n",
    "    Recibe un argumento:\n",
    "        actual_primo: Será el número primo a partir del cual debo buscar el siguiente\n",
    "    Ej:\n",
    "        ProximoPrimo(7) debe retornar 11\n",
    "        ProximoPrimo(8) debe retornar nulo\n",
    "    '''\n",
    "    #Tu código aca:\n",
    "    def primo(n):\n",
    "        primo = True\n",
    "        for i in range(2, n):\n",
    "            if (n % i == 0):\n",
    "                primo = False\n",
    "                break\n",
    "        \n",
    "        return primo\n",
    "    \n",
    "    if type(actual_primo) != int:\n",
    "        return None\n",
    "    \n",
    "    elif primo(actual_primo) == False:\n",
    "        return None\n",
    "    \n",
    "    else:\n",
    "        siguiente_primo = actual_primo + 1\n",
    "        while(primo(siguiente_primo) == False):\n",
    "            siguiente_primo = siguiente_primo + 1 #siguiente_primo+=1\n",
    "            \n",
    "    return siguiente_primo\n",
    "    "
   ]
  },
  {
   "cell_type": "code",
   "execution_count": 22,
   "metadata": {},
   "outputs": [
    {
     "data": {
      "text/plain": [
       "149"
      ]
     },
     "execution_count": 22,
     "metadata": {},
     "output_type": "execute_result"
    }
   ],
   "source": [
    "ProximoPrimo(139)"
   ]
  },
  {
   "cell_type": "code",
   "execution_count": 9,
   "metadata": {},
   "outputs": [],
   "source": [
    "def primo(n):\n",
    "    primo = True\n",
    "    for i in range(2, n):\n",
    "        if (n % i == 0):\n",
    "            primo = False\n",
    "            break\n",
    "    \n",
    "    return primo\n"
   ]
  },
  {
   "cell_type": "code",
   "execution_count": 18,
   "metadata": {},
   "outputs": [
    {
     "name": "stdout",
     "output_type": "stream",
     "text": [
      "3\n"
     ]
    }
   ],
   "source": [
    "actual_primo = 2\n",
    "if type(actual_primo) != int:\n",
    "    print('no es entero')\n",
    "elif primo(actual_primo) == False:\n",
    "    print('El valor no es primo')\n",
    "else:\n",
    "    siguiente_primo = actual_primo + 1\n",
    "    while(primo(siguiente_primo) == False):\n",
    "        siguiente_primo = siguiente_primo + 1 #siguiente_primo+=1\n",
    "        \n",
    "    print(siguiente_primo)"
   ]
  },
  {
   "cell_type": "code",
   "execution_count": 11,
   "metadata": {},
   "outputs": [
    {
     "data": {
      "text/plain": [
       "True"
      ]
     },
     "execution_count": 11,
     "metadata": {},
     "output_type": "execute_result"
    }
   ],
   "source": [
    "primo(29)"
   ]
  },
  {
   "attachments": {},
   "cell_type": "markdown",
   "metadata": {},
   "source": [
    "## Pregunta 3"
   ]
  },
  {
   "cell_type": "code",
   "execution_count": 23,
   "metadata": {},
   "outputs": [],
   "source": [
    "def ClaseAnimal(especie, color):\n",
    "    '''\n",
    "    Esta función devuelve un objeto instanciado de la clase Animal, \n",
    "    la cual debe tener los siguientes atributos:\n",
    "        Edad    (Un valor de tipo de dato entero, que debe inicializarse en cero)\n",
    "        Especie (Un valor de tipo de dato string)\n",
    "        Color   (Un valor de tipo de dato string)\n",
    "    y debe tener el siguiente método:\n",
    "        CumplirAnios  (este método debe sumar uno al atributo Edad y debe devolver ese valor)\n",
    "    Recibe dos argumento:\n",
    "        especie: Dato que se asignará al atributo Especie del objeto de la clase Animal\n",
    "        color: Dato que se asignará al atributo Color del objeto de la clase Animal\n",
    "    Ej:\n",
    "        a = ClaseAnimal('perro','blanco')\n",
    "        a.CumplirAnios() -> debe devolver 1\n",
    "        a.CumplirAnios() -> debe devolver 2\n",
    "        a.CumplirAnios() -> debe devolver 3\n",
    "    '''\n",
    "    #Tu código aca:\n",
    "    class Animal:\n",
    "        def __init__(self, especie, color):\n",
    "            self.edad = 0\n",
    "            self.especie = especie\n",
    "            self.color = color\n",
    "            \n",
    "        def CumplirAnios(self):\n",
    "            self.edad += 1 #self.edad = self.edad + 1\n",
    "            return self.edad\n",
    "            \n",
    "            \n",
    "    return Animal(especie,color)"
   ]
  },
  {
   "cell_type": "code",
   "execution_count": 24,
   "metadata": {},
   "outputs": [],
   "source": [
    "a = ClaseAnimal('perro','blanco')"
   ]
  },
  {
   "cell_type": "code",
   "execution_count": 27,
   "metadata": {},
   "outputs": [
    {
     "data": {
      "text/plain": [
       "3"
      ]
     },
     "execution_count": 27,
     "metadata": {},
     "output_type": "execute_result"
    }
   ],
   "source": [
    "a.CumplirAnios()"
   ]
  }
 ],
 "metadata": {
  "kernelspec": {
   "display_name": "Python 3",
   "language": "python",
   "name": "python3"
  },
  "language_info": {
   "codemirror_mode": {
    "name": "ipython",
    "version": 3
   },
   "file_extension": ".py",
   "mimetype": "text/x-python",
   "name": "python",
   "nbconvert_exporter": "python",
   "pygments_lexer": "ipython3",
   "version": "3.10.11"
  },
  "orig_nbformat": 4
 },
 "nbformat": 4,
 "nbformat_minor": 2
}
